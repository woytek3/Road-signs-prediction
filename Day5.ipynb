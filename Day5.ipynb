{
  "nbformat": 4,
  "nbformat_minor": 0,
  "metadata": {
    "colab": {
      "name": "Day5.ipynb",
      "provenance": [],
      "mount_file_id": "1N3TUWqyNG6_3n4LyDOI98ddZA4OBTuea",
      "authorship_tag": "ABX9TyO1jp8bTFEHTwu6/JIy0IMK"
    },
    "kernelspec": {
      "name": "python3",
      "display_name": "Python 3"
    },
    "accelerator": "GPU"
  },
  "cells": [
    {
      "cell_type": "code",
      "metadata": {
        "id": "t_pfOX4GcsXQ",
        "colab_type": "code",
        "colab": {}
      },
      "source": [
        "import pandas as pd\n",
        "import numpy as np\n",
        "import os\n",
        "import datetime\n",
        "\n",
        "import tensorflow as tf\n",
        "from tensorflow.keras.models import Sequential\n",
        "from tensorflow.keras.layers import Conv2D, MaxPool2D, Dense, Flatten, Dropout, Conv1D\n",
        "from tensorflow.keras.utils import to_categorical\n",
        "\n",
        "%load_ext tensorboard\n",
        "\n",
        "import matplotlib.pyplot as plt\n",
        "from skimage import color, exposure\n",
        "\n",
        "from sklearn.metrics import accuracy_score\n",
        "\n",
        "from hyperopt import hp, STATUS_OK, tpe, Trials, fmin"
      ],
      "execution_count": 1,
      "outputs": []
    },
    {
      "cell_type": "code",
      "metadata": {
        "id": "MkBeJ-nBeawP",
        "colab_type": "code",
        "colab": {
          "base_uri": "https://localhost:8080/",
          "height": 35
        },
        "outputId": "605aec05-9321-4f8d-fd06-e5f07d776161"
      },
      "source": [
        "cd \"/content/drive/My Drive/Colab Notebooks/dw_mtrx/matrix_three/dw_mtrx3\""
      ],
      "execution_count": 2,
      "outputs": [
        {
          "output_type": "stream",
          "text": [
            "/content/drive/My Drive/Colab Notebooks/dw_mtrx/matrix_three/dw_mtrx3\n"
          ],
          "name": "stdout"
        }
      ]
    },
    {
      "cell_type": "code",
      "metadata": {
        "id": "yFwhJ2cCeqDf",
        "colab_type": "code",
        "colab": {}
      },
      "source": [
        "train = pd.read_pickle('data/train.p')\n",
        "test = pd.read_pickle('data/test.p')\n",
        "\n",
        "X_train, y_train = train['features'], train['labels']\n",
        "X_test, y_test = test['features'], test['labels']"
      ],
      "execution_count": 3,
      "outputs": []
    },
    {
      "cell_type": "code",
      "metadata": {
        "id": "XMV7ZXgieuSL",
        "colab_type": "code",
        "colab": {}
      },
      "source": [
        "if y_train.ndim == 1: y_train = to_categorical(y_train)\n",
        "if y_test.ndim == 1: y_test = to_categorical(y_test)\n",
        "\n",
        "input_shape = X_train.shape[1:]\n",
        "num_classes = y_train.shape[1]"
      ],
      "execution_count": 4,
      "outputs": []
    },
    {
      "cell_type": "code",
      "metadata": {
        "id": "NBiwOTUKez2P",
        "colab_type": "code",
        "colab": {}
      },
      "source": [
        "def train_model(model, X_train, y_train, params_fit={}):\n",
        "  model.compile(loss='categorical_crossentropy', optimizer='Adam', metrics='accuracy')\n",
        "\n",
        "  logdir = os.path.join('logs', datetime.datetime.now().strftime('%Y%m%d-%H%M%S'))\n",
        "  tensorboard_callback = tf.keras.callbacks.TensorBoard(logdir, histogram_freq=1)\n",
        "\n",
        "  model.fit(\n",
        "      X_train,\n",
        "      y_train,\n",
        "      batch_size=params_fit.get('batch_size', 128),\n",
        "      epochs=params_fit.get('epochs', 5),\n",
        "      verbose=params_fit.get('verbose', 1),\n",
        "      validation_data=params_fit.get('validation_data', (X_train, y_train)),\n",
        "      callbacks= [tensorboard_callback]\n",
        "  )\n",
        "  return model\n",
        "\n",
        "def predict(model_trained, X_test, y_test, scoring=accuracy_score):\n",
        "  y_test_norm = np.argmax(y_test, axis=1)\n",
        "\n",
        "  y_pred_prob = model_trained.predict(X_test)\n",
        "  y_pred = np.argmax(y_pred_prob, axis=1)\n",
        "\n",
        "  return scoring(y_test_norm, y_pred)"
      ],
      "execution_count": 5,
      "outputs": []
    },
    {
      "cell_type": "code",
      "metadata": {
        "id": "O_Hyd3yffB3w",
        "colab_type": "code",
        "colab": {}
      },
      "source": [
        "def get_cnn_v5(input_shape, num_classes):\n",
        "  return Sequential([\n",
        "    Conv2D(filters=32, kernel_size=(3, 3), activation='relu', input_shape=input_shape),\n",
        "    Conv2D(filters=32, kernel_size=(3, 3), activation='relu', padding='same'),\n",
        "    MaxPool2D(),\n",
        "    Dropout(0.3),\n",
        "\n",
        "    Conv2D(filters=64, kernel_size=(3, 3), activation='relu', padding='same'),\n",
        "    Conv2D(filters=64, kernel_size=(3, 3), activation='relu', padding='same'),\n",
        "    MaxPool2D(),\n",
        "    Dropout(0.3),\n",
        "\n",
        "    Conv2D(filters=64, kernel_size=(3, 3), activation='relu', padding='same'),\n",
        "    Conv2D(filters=64, kernel_size=(3, 3), activation='relu'),\n",
        "    MaxPool2D(),\n",
        "    Dropout(0.3),\n",
        "\n",
        "    Flatten(),\n",
        "\n",
        "    Dense(1024, activation='relu'),\n",
        "    Dropout(0.3),\n",
        "\n",
        "    Dense(1024, activation='relu'),\n",
        "    Dropout(0.3),\n",
        "\n",
        "    Dense(num_classes, activation='softmax')\n",
        "  ])\n",
        "\n",
        "#get_cnn_v5(input_shape, num_classes).summary()"
      ],
      "execution_count": 6,
      "outputs": []
    },
    {
      "cell_type": "code",
      "metadata": {
        "id": "wyJI8Cy0fVy1",
        "colab_type": "code",
        "colab": {
          "base_uri": "https://localhost:8080/",
          "height": 297
        },
        "outputId": "53c55249-5b8d-4b90-a3f4-d0332c7b291a"
      },
      "source": [
        "model = get_cnn_v5(input_shape, num_classes)\n",
        "model_trained = train_model(model, X_train, y_train)\n",
        "\n",
        "predict(model_trained, X_test, y_test)"
      ],
      "execution_count": 7,
      "outputs": [
        {
          "output_type": "stream",
          "text": [
            "Epoch 1/5\n",
            "  1/272 [..............................] - ETA: 0s - loss: 26.3990 - accuracy: 0.0156WARNING:tensorflow:From /usr/local/lib/python3.6/dist-packages/tensorflow/python/ops/summary_ops_v2.py:1277: stop (from tensorflow.python.eager.profiler) is deprecated and will be removed after 2020-07-01.\n",
            "Instructions for updating:\n",
            "use `tf.profiler.experimental.stop` instead.\n",
            "  2/272 [..............................] - ETA: 23s - loss: 19.0407 - accuracy: 0.0273WARNING:tensorflow:Callbacks method `on_train_batch_end` is slow compared to the batch time (batch time: 0.0344s vs `on_train_batch_end` time: 0.1410s). Check your callbacks.\n",
            "272/272 [==============================] - 12s 45ms/step - loss: 2.7334 - accuracy: 0.2651 - val_loss: 1.4240 - val_accuracy: 0.5256\n",
            "Epoch 2/5\n",
            "272/272 [==============================] - 11s 42ms/step - loss: 1.1469 - accuracy: 0.6294 - val_loss: 0.4532 - val_accuracy: 0.8578\n",
            "Epoch 3/5\n",
            "272/272 [==============================] - 11s 42ms/step - loss: 0.5441 - accuracy: 0.8250 - val_loss: 0.1268 - val_accuracy: 0.9606\n",
            "Epoch 4/5\n",
            "272/272 [==============================] - 11s 42ms/step - loss: 0.3435 - accuracy: 0.8954 - val_loss: 0.0620 - val_accuracy: 0.9816\n",
            "Epoch 5/5\n",
            "272/272 [==============================] - 11s 42ms/step - loss: 0.2381 - accuracy: 0.9274 - val_loss: 0.0390 - val_accuracy: 0.9893\n"
          ],
          "name": "stdout"
        },
        {
          "output_type": "execute_result",
          "data": {
            "text/plain": [
              "0.9612244897959183"
            ]
          },
          "metadata": {
            "tags": []
          },
          "execution_count": 7
        }
      ]
    },
    {
      "cell_type": "code",
      "metadata": {
        "id": "9LrHAL8ANjat",
        "colab_type": "code",
        "colab": {}
      },
      "source": [
        "def get_model(params):\n",
        "  return Sequential([\n",
        "    Conv2D(filters=32, kernel_size=(3, 3), activation='relu', input_shape=input_shape),\n",
        "    Conv2D(filters=32, kernel_size=(3, 3), activation='relu', padding='same'),\n",
        "    MaxPool2D(),\n",
        "    Dropout(params['dropout_cnn_block_one']),\n",
        "\n",
        "    Conv2D(filters=64, kernel_size=(3, 3), activation='relu', padding='same'),\n",
        "    Conv2D(filters=64, kernel_size=(3, 3), activation='relu', padding='same'),\n",
        "    MaxPool2D(),\n",
        "    Dropout(params['dropout_cnn_block_two']),\n",
        "\n",
        "    Conv2D(filters=128, kernel_size=(3, 3), activation='relu', padding='same'),\n",
        "    Conv2D(filters=128, kernel_size=(3, 3), activation='relu'),\n",
        "    MaxPool2D(),\n",
        "    Dropout(params['dropout_cnn_block_three']),\n",
        "\n",
        "    Flatten(),\n",
        "\n",
        "    Dense(1024, activation='relu'),\n",
        "    Dropout(params['dropout_dense_block_one']),\n",
        "\n",
        "    Dense(1024, activation='relu'),\n",
        "    Dropout(params['dropout_dense_block_two']),\n",
        "\n",
        "    Dense(num_classes, activation='softmax')\n",
        "  ])"
      ],
      "execution_count": 12,
      "outputs": []
    },
    {
      "cell_type": "code",
      "metadata": {
        "id": "rZKJzNtPfuTW",
        "colab_type": "code",
        "colab": {}
      },
      "source": [
        "def func_obj(params):\n",
        "  model = get_model(params)\n",
        "  model.compile(loss='categorical_crossentropy', optimizer='Adam', metrics='accuracy')\n",
        "\n",
        "  model.fit(\n",
        "      X_train,\n",
        "      y_train,\n",
        "      batch_size=int(params.get('batch_size', 128)),\n",
        "      epochs=5,\n",
        "      verbose=0\n",
        "  )\n",
        "\n",
        "  score = model.evaluate(X_test, y_test, verbose=0)\n",
        "  accuracy = score[1]\n",
        "  print(params, 'accuracy={}'.format(accuracy))\n",
        "\n",
        "  return {'loss': -accuracy, 'status': STATUS_OK, 'model': model}"
      ],
      "execution_count": 13,
      "outputs": []
    },
    {
      "cell_type": "code",
      "metadata": {
        "id": "3Ikqnrfyiebg",
        "colab_type": "code",
        "colab": {
          "base_uri": "https://localhost:8080/",
          "height": 1000
        },
        "outputId": "2f5dd38b-0ed0-4769-9b3a-58aa3556520d"
      },
      "source": [
        "space = {\n",
        "    'batch_size': hp.quniform('batch_size', 50, 200, 20),\n",
        "    'dropout_cnn_block_one': hp.uniform('dropout_cnn_block_one', 0, 1),\n",
        "    'dropout_cnn_block_two': hp.uniform('dropout_cnn_block_two', 0, 1),\n",
        "    'dropout_cnn_block_three': hp.uniform('dropout_cnn_block_three', 0, 1),\n",
        "\n",
        "    'dropout_dense_block_one': hp.uniform('dropout_dense_block_one', 0, 1),\n",
        "    'dropout_dense_block_two': hp.uniform('dropout_dense_block_two', 0, 1),\n",
        "}\n",
        "\n",
        "best = fmin(\n",
        "    func_obj,\n",
        "    space,\n",
        "    tpe.suggest,\n",
        "    30,\n",
        "    Trials()\n",
        ")"
      ],
      "execution_count": 14,
      "outputs": [
        {
          "output_type": "stream",
          "text": [
            "{'batch_size': 120.0, 'dropout_cnn_block_one': 0.5325006871295006, 'dropout_cnn_block_three': 0.430823998127576, 'dropout_cnn_block_two': 0.7069283296995881, 'dropout_dense_block_one': 0.8927032160584272, 'dropout_dense_block_two': 0.032959253595548854}\n",
            "accuracy=0.30612245202064514\n",
            "{'batch_size': 100.0, 'dropout_cnn_block_one': 0.8241398230957008, 'dropout_cnn_block_three': 0.3340059690738738, 'dropout_cnn_block_two': 0.14489781214108888, 'dropout_dense_block_one': 0.5121571940924496, 'dropout_dense_block_two': 0.41964721391726}\n",
            "accuracy=0.5814058780670166\n",
            "{'batch_size': 180.0, 'dropout_cnn_block_one': 0.8547937921793823, 'dropout_cnn_block_three': 0.19748669487311699, 'dropout_cnn_block_two': 0.09746086261294828, 'dropout_dense_block_one': 0.345840513345136, 'dropout_dense_block_two': 0.18977064765037788}\n",
            "accuracy=0.19682539999485016\n",
            "{'batch_size': 120.0, 'dropout_cnn_block_one': 0.21578738231112216, 'dropout_cnn_block_three': 0.16112852034524083, 'dropout_cnn_block_two': 0.44707050743012056, 'dropout_dense_block_one': 0.7145819663710952, 'dropout_dense_block_two': 0.7987911355524981}\n",
            "accuracy=0.9240362644195557\n",
            "{'batch_size': 100.0, 'dropout_cnn_block_one': 0.012799152100241407, 'dropout_cnn_block_three': 0.2553085623979692, 'dropout_cnn_block_two': 0.05324784262225557, 'dropout_dense_block_one': 0.7257442534856282, 'dropout_dense_block_two': 0.8065437989608275}\n",
            "accuracy=0.8934240341186523\n",
            "{'batch_size': 60.0, 'dropout_cnn_block_one': 0.581835960570674, 'dropout_cnn_block_three': 0.7056886311720879, 'dropout_cnn_block_two': 0.920690464682101, 'dropout_dense_block_one': 0.643155549071822, 'dropout_dense_block_two': 0.16417640989034255}\n",
            "accuracy=0.22448979318141937\n",
            "{'batch_size': 140.0, 'dropout_cnn_block_one': 0.7204841463902045, 'dropout_cnn_block_three': 0.3037576299048862, 'dropout_cnn_block_two': 0.07172333649772977, 'dropout_dense_block_one': 0.488444674585517, 'dropout_dense_block_two': 0.7276101544246893}\n",
            "accuracy=0.7333333492279053\n",
            "{'batch_size': 140.0, 'dropout_cnn_block_one': 0.4090753817376507, 'dropout_cnn_block_three': 0.21687756090173327, 'dropout_cnn_block_two': 0.13902247310753058, 'dropout_dense_block_one': 0.6504372333101031, 'dropout_dense_block_two': 0.015987763086130147}\n",
            "accuracy=0.9727891087532043\n",
            "{'batch_size': 160.0, 'dropout_cnn_block_one': 0.0906906606007567, 'dropout_cnn_block_three': 0.36754823674891257, 'dropout_cnn_block_two': 0.838420228383893, 'dropout_dense_block_one': 0.1679277436912553, 'dropout_dense_block_two': 0.9128084439987245}\n",
            "accuracy=0.3473922908306122\n",
            "{'batch_size': 60.0, 'dropout_cnn_block_one': 0.01910345011372727, 'dropout_cnn_block_three': 0.19005749121355442, 'dropout_cnn_block_two': 0.8480133257183438, 'dropout_dense_block_one': 0.007590424847900401, 'dropout_dense_block_two': 0.5554176616354961}\n",
            "accuracy=0.8746031522750854\n",
            "{'batch_size': 160.0, 'dropout_cnn_block_one': 0.25186229919485525, 'dropout_cnn_block_three': 0.4676678755224719, 'dropout_cnn_block_two': 0.6526491731277333, 'dropout_dense_block_one': 0.7493515424305361, 'dropout_dense_block_two': 0.8025841619822803}\n",
            "accuracy=0.3006802797317505\n",
            "{'batch_size': 100.0, 'dropout_cnn_block_one': 0.4163936256692211, 'dropout_cnn_block_three': 0.18737557635406465, 'dropout_cnn_block_two': 0.4034948815381819, 'dropout_dense_block_one': 0.4154869806015159, 'dropout_dense_block_two': 0.64060645535788}\n",
            "accuracy=0.9551020264625549\n",
            "{'batch_size': 100.0, 'dropout_cnn_block_one': 0.9485842180288085, 'dropout_cnn_block_three': 0.13750679957431222, 'dropout_cnn_block_two': 0.8931857063798627, 'dropout_dense_block_one': 0.03683296944992098, 'dropout_dense_block_two': 0.28338964014706514}\n",
            "accuracy=0.05873015895485878\n",
            "{'batch_size': 200.0, 'dropout_cnn_block_one': 0.6931278056129163, 'dropout_cnn_block_three': 0.44737068181181894, 'dropout_cnn_block_two': 0.10392684223273563, 'dropout_dense_block_one': 0.7353184705148006, 'dropout_dense_block_two': 0.6772206981021949}\n",
            "accuracy=0.3303854763507843\n",
            "{'batch_size': 140.0, 'dropout_cnn_block_one': 0.6508677971062367, 'dropout_cnn_block_three': 0.7207171103276636, 'dropout_cnn_block_two': 0.11284391135604677, 'dropout_dense_block_one': 0.28674839732590773, 'dropout_dense_block_two': 0.07317159499014003}\n",
            "accuracy=0.6972789168357849\n",
            "{'batch_size': 160.0, 'dropout_cnn_block_one': 0.8940338306123857, 'dropout_cnn_block_three': 0.6513795828227237, 'dropout_cnn_block_two': 0.7439694886521793, 'dropout_dense_block_one': 0.7924985718125672, 'dropout_dense_block_two': 0.22078522389891975}\n",
            "accuracy=0.08571428805589676\n",
            "{'batch_size': 140.0, 'dropout_cnn_block_one': 0.0074911317517236675, 'dropout_cnn_block_three': 0.045203482312399124, 'dropout_cnn_block_two': 0.2595562970511597, 'dropout_dense_block_one': 0.4848296000033824, 'dropout_dense_block_two': 0.8851992838568531}\n",
            "accuracy=0.9578231573104858\n",
            "{'batch_size': 80.0, 'dropout_cnn_block_one': 0.44590637069549477, 'dropout_cnn_block_three': 0.10523431690362994, 'dropout_cnn_block_two': 0.7377556946880035, 'dropout_dense_block_one': 0.43290720410756833, 'dropout_dense_block_two': 0.3364612012528315}\n",
            "accuracy=0.7605442404747009\n",
            "{'batch_size': 160.0, 'dropout_cnn_block_one': 0.7017696708886126, 'dropout_cnn_block_three': 0.945657655566884, 'dropout_cnn_block_two': 0.7837459114591526, 'dropout_dense_block_one': 0.7325124039943341, 'dropout_dense_block_two': 0.21976863363061516}\n",
            "accuracy=0.054421767592430115\n",
            "{'batch_size': 140.0, 'dropout_cnn_block_one': 0.6040706173242862, 'dropout_cnn_block_three': 0.5792060058502929, 'dropout_cnn_block_two': 0.05842893446422637, 'dropout_dense_block_one': 0.9687051766028566, 'dropout_dense_block_two': 0.5721741812407308}\n",
            "accuracy=0.21541950106620789\n",
            "{'batch_size': 200.0, 'dropout_cnn_block_one': 0.3309972082032715, 'dropout_cnn_block_three': 0.02195000055882193, 'dropout_cnn_block_two': 0.3558325022648655, 'dropout_dense_block_one': 0.5994978867379199, 'dropout_dense_block_two': 0.9859873131611359}\n",
            "accuracy=0.21564625203609467\n",
            "{'batch_size': 180.0, 'dropout_cnn_block_one': 0.1527096043316149, 'dropout_cnn_block_three': 0.049735762856759014, 'dropout_cnn_block_two': 0.2502152969687534, 'dropout_dense_block_one': 0.5928396950374095, 'dropout_dense_block_two': 0.4523182194042202}\n",
            "accuracy=0.961904764175415\n",
            "{'batch_size': 180.0, 'dropout_cnn_block_one': 0.1473800923119934, 'dropout_cnn_block_three': 0.0005339057279444281, 'dropout_cnn_block_two': 0.2441651375662067, 'dropout_dense_block_one': 0.5985623813174249, 'dropout_dense_block_two': 0.42991815377319814}\n",
            "accuracy=0.9732426404953003\n",
            "{'batch_size': 180.0, 'dropout_cnn_block_one': 0.32247931793511764, 'dropout_cnn_block_three': 0.8312052920604254, 'dropout_cnn_block_two': 0.5915685807772362, 'dropout_dense_block_one': 0.9498440957297549, 'dropout_dense_block_two': 0.10239862901321135}\n",
            "accuracy=0.054421767592430115\n",
            "{'batch_size': 200.0, 'dropout_cnn_block_one': 0.356313773678543, 'dropout_cnn_block_three': 0.5493795580654321, 'dropout_cnn_block_two': 0.26626765944585296, 'dropout_dense_block_one': 0.8609002471830071, 'dropout_dense_block_two': 0.3336869186579283}\n",
            "accuracy=0.4294784665107727\n",
            "{'batch_size': 180.0, 'dropout_cnn_block_one': 0.2663368638183429, 'dropout_cnn_block_three': 0.006021374580697603, 'dropout_cnn_block_two': 0.19058691249411364, 'dropout_dense_block_one': 0.24768455502299458, 'dropout_dense_block_two': 0.4022662764262708}\n",
            "accuracy=0.9609977602958679\n",
            "{'batch_size': 120.0, 'dropout_cnn_block_one': 0.1459566486592977, 'dropout_cnn_block_three': 0.25947899368676125, 'dropout_cnn_block_two': 0.3289012949361468, 'dropout_dense_block_one': 0.6238857284916259, 'dropout_dense_block_two': 0.11182202269907426}\n",
            "accuracy=0.9673469662666321\n",
            "{'batch_size': 160.0, 'dropout_cnn_block_one': 0.4428942120353557, 'dropout_cnn_block_three': 0.08403226916774181, 'dropout_cnn_block_two': 0.45820386256923307, 'dropout_dense_block_one': 0.5492838829513543, 'dropout_dense_block_two': 0.01766783998381627}\n",
            "accuracy=0.9632652997970581\n",
            "{'batch_size': 180.0, 'dropout_cnn_block_one': 0.5171072109611827, 'dropout_cnn_block_three': 0.38277907828271596, 'dropout_cnn_block_two': 0.55112332021204, 'dropout_dense_block_one': 0.8938237676011491, 'dropout_dense_block_two': 0.014371880493495248}\n",
            "accuracy=0.3798185884952545\n",
            "{'batch_size': 80.0, 'dropout_cnn_block_one': 0.08209894062926355, 'dropout_cnn_block_three': 0.27949461566785416, 'dropout_cnn_block_two': 0.19047034016406617, 'dropout_dense_block_one': 0.6545475556511671, 'dropout_dense_block_two': 0.5162390033569587}\n",
            "accuracy=0.9723355770111084\n",
            "100%|██████████| 30/30 [23:01<00:00, 46.06s/it, best loss: -0.9732426404953003]\n"
          ],
          "name": "stdout"
        }
      ]
    },
    {
      "cell_type": "code",
      "metadata": {
        "id": "mFAvsL19MSr8",
        "colab_type": "code",
        "colab": {}
      },
      "source": [
        ""
      ],
      "execution_count": 10,
      "outputs": []
    }
  ]
}